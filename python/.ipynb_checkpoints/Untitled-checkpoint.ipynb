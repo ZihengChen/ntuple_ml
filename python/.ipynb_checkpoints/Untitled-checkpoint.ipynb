{
 "cells": [
  {
   "cell_type": "code",
   "execution_count": 1,
   "metadata": {},
   "outputs": [
    {
     "name": "stderr",
     "output_type": "stream",
     "text": [
      "/Users/zihengchen/anaconda/lib/python3.6/site-packages/h5py/__init__.py:34: FutureWarning: Conversion of the second argument of issubdtype from `float` to `np.floating` is deprecated. In future, it will be treated as `np.float64 == np.dtype(float).type`.\n",
      "  from ._conv import register_converters as _register_converters\n",
      "Using TensorFlow backend.\n"
     ]
    }
   ],
   "source": [
    "from keras.models import Sequential\n",
    "import keras\n",
    "import pandas as pd\n",
    "from pylab import *\n"
   ]
  },
  {
   "cell_type": "code",
   "execution_count": 50,
   "metadata": {},
   "outputs": [],
   "source": [
    "from keras.layers import Dense,Conv1D,Flatten\n",
    "model = Sequential()\n",
    "\n",
    "model.add(Conv1D(4,5, activation='relu', data_format=\"channels_first\", input_shape=(1,52) ,name=\"input\"))\n",
    "model.add(Conv1D(4,4, activation='relu', data_format=\"channels_first\" ))\n",
    "model.add(Conv1D(4,4, activation='relu', data_format=\"channels_first\" ))\n",
    "model.add(Flatten())\n",
    "model.add(Dense(units=16, activation='relu', input_dim=80))\n",
    "model.add(Dense(units=4, activation='softmax',name=\"output\"))"
   ]
  },
  {
   "cell_type": "code",
   "execution_count": 51,
   "metadata": {},
   "outputs": [],
   "source": [
    "model.compile(loss=keras.losses.categorical_crossentropy,\n",
    "              optimizer=keras.optimizers.adam())"
   ]
  },
  {
   "cell_type": "code",
   "execution_count": 30,
   "metadata": {},
   "outputs": [],
   "source": [
    "trainset = pd.read_pickle(\"../data/pickle/train_layerPool.pkl\")\n",
    "x_train,y_train = [],[]\n",
    "for i in range(len(trainset)):\n",
    "    x_train.append(trainset.loc[i].feature)\n",
    "    \n",
    "    l = trainset.loc[i].label\n",
    "    temp = np.zeros(4)\n",
    "    temp[l] = 1\n",
    "    y_train.append(temp)\n",
    "    \n",
    "x_train = np.array(x_train)[:,None,:]\n",
    "y_train = np.array(y_train)"
   ]
  },
  {
   "cell_type": "code",
   "execution_count": 52,
   "metadata": {},
   "outputs": [
    {
     "name": "stdout",
     "output_type": "stream",
     "text": [
      "_________________________________________________________________\n",
      "Layer (type)                 Output Shape              Param #   \n",
      "=================================================================\n",
      "input (Conv1D)               (None, 4, 48)             24        \n",
      "_________________________________________________________________\n",
      "conv1d_20 (Conv1D)           (None, 4, 45)             68        \n",
      "_________________________________________________________________\n",
      "conv1d_21 (Conv1D)           (None, 4, 42)             68        \n",
      "_________________________________________________________________\n",
      "flatten_11 (Flatten)         (None, 168)               0         \n",
      "_________________________________________________________________\n",
      "dense_14 (Dense)             (None, 16)                2704      \n",
      "_________________________________________________________________\n",
      "output (Dense)               (None, 4)                 68        \n",
      "=================================================================\n",
      "Total params: 2,932\n",
      "Trainable params: 2,932\n",
      "Non-trainable params: 0\n",
      "_________________________________________________________________\n"
     ]
    }
   ],
   "source": [
    "model.summary()"
   ]
  },
  {
   "cell_type": "code",
   "execution_count": 53,
   "metadata": {},
   "outputs": [
    {
     "name": "stdout",
     "output_type": "stream",
     "text": [
      "Epoch 1/10\n",
      "30000/30000 [==============================] - 2s 66us/step - loss: 0.7374\n",
      "Epoch 2/10\n",
      "30000/30000 [==============================] - 1s 44us/step - loss: 0.4853\n",
      "Epoch 3/10\n",
      "30000/30000 [==============================] - 1s 44us/step - loss: 0.4678\n",
      "Epoch 4/10\n",
      "30000/30000 [==============================] - 1s 45us/step - loss: 0.4605\n",
      "Epoch 5/10\n",
      "30000/30000 [==============================] - 1s 45us/step - loss: 0.4531\n",
      "Epoch 6/10\n",
      "30000/30000 [==============================] - 1s 45us/step - loss: 0.4487\n",
      "Epoch 7/10\n",
      "30000/30000 [==============================] - 1s 45us/step - loss: 0.4451\n",
      "Epoch 8/10\n",
      "30000/30000 [==============================] - 1s 45us/step - loss: 0.4435\n",
      "Epoch 9/10\n",
      "30000/30000 [==============================] - 1s 44us/step - loss: 0.4398\n",
      "Epoch 10/10\n",
      "30000/30000 [==============================] - 1s 45us/step - loss: 0.4375\n"
     ]
    },
    {
     "data": {
      "text/plain": [
       "<keras.callbacks.History at 0x10c0c0160>"
      ]
     },
     "execution_count": 53,
     "metadata": {},
     "output_type": "execute_result"
    }
   ],
   "source": [
    "# x_train and y_train are Numpy arrays --just like in the Scikit-Learn API.\n",
    "model.fit(x_train, y_train, epochs=10, batch_size=100)"
   ]
  },
  {
   "cell_type": "code",
   "execution_count": 54,
   "metadata": {},
   "outputs": [
    {
     "name": "stdout",
     "output_type": "stream",
     "text": [
      "INFO:tensorflow:Froze 256 variables.\n",
      "INFO:tensorflow:Converted 256 variables to const ops.\n"
     ]
    },
    {
     "data": {
      "text/plain": [
       "'../data/test.pb'"
      ]
     },
     "execution_count": 54,
     "metadata": {},
     "output_type": "execute_result"
    }
   ],
   "source": [
    "import tensorflow as tf\n",
    "from keras import backend as K\n",
    "\n",
    "\n",
    "def freeze_session(session, keep_var_names=None, output_names=None, clear_devices=True):\n",
    "    from tensorflow.python.framework.graph_util import convert_variables_to_constants\n",
    "    graph = session.graph\n",
    "    with graph.as_default():\n",
    "        freeze_var_names = list(set(v.op.name for v in tf.global_variables()).difference(keep_var_names or []))\n",
    "        output_names = output_names or []\n",
    "        output_names += [v.op.name for v in tf.global_variables()]\n",
    "        input_graph_def = graph.as_graph_def()\n",
    "        if clear_devices:\n",
    "            for node in input_graph_def.node:\n",
    "                node.device = \"\"\n",
    "        frozen_graph = convert_variables_to_constants(session, input_graph_def,\n",
    "                                                      output_names, freeze_var_names)\n",
    "        return frozen_graph\n",
    "    \n",
    "frozen_graph = freeze_session(K.get_session(),\n",
    "                              output_names=[out.op.name for out in model.outputs])\n",
    "\n",
    "tf.train.write_graph(frozen_graph, \"../data/\", \"test.pb\", as_text=False)\n"
   ]
  }
 ],
 "metadata": {
  "kernelspec": {
   "display_name": "Python 3",
   "language": "python",
   "name": "python3"
  },
  "language_info": {
   "codemirror_mode": {
    "name": "ipython",
    "version": 3
   },
   "file_extension": ".py",
   "mimetype": "text/x-python",
   "name": "python",
   "nbconvert_exporter": "python",
   "pygments_lexer": "ipython3",
   "version": "3.6.1"
  }
 },
 "nbformat": 4,
 "nbformat_minor": 2
}
