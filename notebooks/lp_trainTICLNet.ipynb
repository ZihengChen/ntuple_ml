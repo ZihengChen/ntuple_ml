{
 "cells": [
  {
   "cell_type": "code",
   "execution_count": 1,
   "metadata": {
    "collapsed": true
   },
   "outputs": [],
   "source": [
    "from torch_TICLNet_layerPool import *\n",
    "from helper_DataLoader import *\n",
    "from IPython.display import clear_output\n",
    "%matplotlib inline"
   ]
  },
  {
   "cell_type": "markdown",
   "metadata": {},
   "source": [
    "# 1. Initialization"
   ]
  },
  {
   "cell_type": "code",
   "execution_count": 2,
   "metadata": {
    "collapsed": true
   },
   "outputs": [],
   "source": [
    "# load training dataset\n",
    "trainset = TICLNetDataset('../data/pickle/train_layerPool.pkl')"
   ]
  },
  {
   "cell_type": "code",
   "execution_count": 3,
   "metadata": {},
   "outputs": [],
   "source": [
    "# initialize a model\n",
    "model = TICLNet_layerPool()\n",
    "# initialize optimizer\n",
    "optimizer = torch.optim.Adam(model.parameters(), lr=1e-3)"
   ]
  },
  {
   "cell_type": "markdown",
   "metadata": {},
   "source": [
    "# 2. Training"
   ]
  },
  {
   "cell_type": "code",
   "execution_count": 4,
   "metadata": {},
   "outputs": [
    {
     "name": "stdout",
     "output_type": "stream",
     "text": [
      "[10, 300] loss: 0.460\n"
     ]
    }
   ],
   "source": [
    "# begin Training\n",
    "for epoch in range(10):\n",
    "    running_loss = 0.0\n",
    "    for i, batch in enumerate(trainset.getBatches(batch_size=100)):\n",
    "        # 1.get the inputs\n",
    "        inputs = torch.tensor(batch[\"feature\"])\n",
    "        labels = torch.tensor(batch[\"label\"])\n",
    "        # 2.zero the parameter gradients\n",
    "        optimizer.zero_grad()\n",
    "        # 3.forward + backward + optimize\n",
    "        outputs = model(inputs)\n",
    "        loss    = F.cross_entropy( outputs, labels )\n",
    "        loss.backward()\n",
    "        optimizer.step()\n",
    "        \n",
    "        #### monitor running loss ####\n",
    "        running_loss += loss.data\n",
    "        if i % 10 == 9:\n",
    "            print('[{:2d}, {:3d}] loss: {:5.3f}'.format(epoch+1, i+1, running_loss/10))\n",
    "            clear_output(wait=True)\n",
    "            running_loss = 0.0"
   ]
  },
  {
   "cell_type": "code",
   "execution_count": 5,
   "metadata": {
    "collapsed": true
   },
   "outputs": [],
   "source": [
    "torch.save(model.state_dict(), '../data/model/TICLNet_layerPool.dict')"
   ]
  }
 ],
 "metadata": {
  "kernelspec": {
   "display_name": "Python 3",
   "language": "python",
   "name": "python3"
  },
  "language_info": {
   "codemirror_mode": {
    "name": "ipython",
    "version": 3
   },
   "file_extension": ".py",
   "mimetype": "text/x-python",
   "name": "python",
   "nbconvert_exporter": "python",
   "pygments_lexer": "ipython3",
   "version": "3.6.1"
  }
 },
 "nbformat": 4,
 "nbformat_minor": 2
}
