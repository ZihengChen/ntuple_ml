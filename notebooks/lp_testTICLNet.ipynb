{
 "cells": [
  {
   "cell_type": "code",
   "execution_count": 1,
   "metadata": {
    "collapsed": true
   },
   "outputs": [],
   "source": [
    "from torch_TICLNet_layerPool import *\n",
    "from helper_DataLoader import *\n",
    "\n",
    "from IPython.display import clear_output\n",
    "%matplotlib inline"
   ]
  },
  {
   "cell_type": "markdown",
   "metadata": {},
   "source": [
    "# 1. Initialization"
   ]
  },
  {
   "cell_type": "code",
   "execution_count": 2,
   "metadata": {},
   "outputs": [
    {
     "data": {
      "text/plain": [
       "TICLNet_layerPool(\n",
       "  (conv): Sequential(\n",
       "    (0): Conv1d(1, 4, kernel_size=(5,), stride=(1,))\n",
       "    (1): ReLU(inplace)\n",
       "    (2): Conv1d(4, 4, kernel_size=(4,), stride=(2,))\n",
       "    (3): ReLU(inplace)\n",
       "    (4): Conv1d(4, 4, kernel_size=(4,), stride=(1,))\n",
       "    (5): ReLU(inplace)\n",
       "  )\n",
       "  (fc): Sequential(\n",
       "    (0): Linear(in_features=80, out_features=16, bias=True)\n",
       "    (1): ReLU(inplace)\n",
       "    (2): Linear(in_features=16, out_features=4, bias=True)\n",
       "  )\n",
       ")"
      ]
     },
     "execution_count": 2,
     "metadata": {},
     "output_type": "execute_result"
    }
   ],
   "source": [
    "# load training dataset\n",
    "testset = TICLNetDataset('../data/pickle/test_layerPool.pkl')\n",
    "# initialize a model\n",
    "model = TICLNet_layerPool()\n",
    "model.load_state_dict(torch.load('../data/model/TICLNet_layerPool.dict'))\n",
    "model.eval()"
   ]
  },
  {
   "cell_type": "markdown",
   "metadata": {},
   "source": [
    "# 2. Testing"
   ]
  },
  {
   "cell_type": "code",
   "execution_count": 4,
   "metadata": {
    "collapsed": true
   },
   "outputs": [],
   "source": [
    "softmax = []\n",
    "for i in range(len(testset)):\n",
    "    event = testset[i]\n",
    "    X = torch.tensor(event[\"feature\"])\n",
    "    Y = torch.tensor(event[\"label\"])\n",
    "    y = F.softmax(model(X),dim=1)\n",
    "    softmax.append(y.data.numpy())\n",
    "softmax = np.array(softmax)  \n",
    "softmax = softmax.reshape(-1,4)"
   ]
  },
  {
   "cell_type": "code",
   "execution_count": 5,
   "metadata": {
    "collapsed": true
   },
   "outputs": [],
   "source": [
    "labels = np.array(testset.label)"
   ]
  },
  {
   "cell_type": "markdown",
   "metadata": {},
   "source": [
    "# 3. Plot Result"
   ]
  },
  {
   "cell_type": "code",
   "execution_count": 6,
   "metadata": {
    "collapsed": true
   },
   "outputs": [],
   "source": [
    "predMatrix = np.zeros([4,4])"
   ]
  },
  {
   "cell_type": "code",
   "execution_count": 24,
   "metadata": {},
   "outputs": [
    {
     "data": {
      "image/png": "[encoded data removed]",
      "text/plain": [
       "<matplotlib.figure.Figure at 0x116994a90>"
      ]
     },
     "metadata": {},
     "output_type": "display_data"
    }
   ],
   "source": [
    "particle = 3\n",
    "temp_softmax = softmax[labels==particle]\n",
    "\n",
    "# prepare making plot\n",
    "mvaBins = np.linspace(0,1,20)\n",
    "mvaLabels = [r'$e$-MVA',r'$\\gamma$-MVA',r'$\\pi$-MVA',r'$\\mu$-MVA']\n",
    "particleName = ['electron','photon','pion','muon']\n",
    "\n",
    "# make plot\n",
    "plt.figure(facecolor='w')\n",
    "for i in range(4):\n",
    "    if i == particle:\n",
    "        htype = 'stepfilled'\n",
    "        halpha = 0.8\n",
    "    else:\n",
    "        htype = 'step'\n",
    "        halpha = 0.8\n",
    "    plt.hist(temp_softmax[:,i], mvaBins,\n",
    "             normed=True,alpha = halpha,\n",
    "             lw=2, histtype=htype,label=mvaLabels[i])\n",
    "    \n",
    "plt.legend(loc='upper center',fontsize=12)\n",
    "plt.grid(linestyle='--',alpha=0.5)\n",
    "plt.xlim(-0.1,1.1)\n",
    "plt.xlabel('TICL-Net Score',fontsize=14)\n",
    "plt.title('{} events'.format(particleName[particle]),fontsize=16)\n",
    "plt.savefig('../plots/score/mva_{}.png'.format(particleName[particle]),dpi=200)"
   ]
  },
  {
   "cell_type": "code",
   "execution_count": 25,
   "metadata": {
    "collapsed": true
   },
   "outputs": [],
   "source": [
    "predicts = np.argmax(temp_softmax,axis=1)\n",
    "h,b= np.histogram(predicts, bins=np.arange(5))\n",
    "predMatrix[particle,:]=h/len(predicts)"
   ]
  },
  {
   "cell_type": "code",
   "execution_count": 26,
   "metadata": {},
   "outputs": [
    {
     "data": {
      "image/png": "[encoded data removed]",
      "text/plain": [
       "<matplotlib.figure.Figure at 0x11a3415f8>"
      ]
     },
     "metadata": {},
     "output_type": "display_data"
    }
   ],
   "source": [
    "# show predicts\n",
    "plt.figure(facecolor='w')\n",
    "plt.imshow(predMatrix.T,origin='lower')\n",
    "plt.xlabel('Gen-level Truth',fontsize=12)\n",
    "plt.ylabel('Network Prediction',fontsize=12)\n",
    "plt.xticks(np.arange(4),[r'$e$',r'$\\gamma$',r'$\\pi$',r'$\\mu$'],fontsize=12)\n",
    "plt.yticks(np.arange(4),[r'$\\hat{e}$',r'$\\hat{\\gamma}$',r'$\\hat{\\pi}$',r'$\\hat{\\mu}$'],fontsize=12)\n",
    "\n",
    "for i in range(4):\n",
    "    for j in range(4):\n",
    "        clr = 'w'\n",
    "        val = predMatrix[i,j]\n",
    "        if val >0.5:\n",
    "            clr = 'k'\n",
    "        plt.text(i-0.2,j-0.1,'{:4.2f}'.format(val), color=clr,fontsize=12)\n",
    "\n",
    "plt.savefig('../plots/score/accuracy.png',dpi=200)"
   ]
  },
  {
   "cell_type": "markdown",
   "metadata": {},
   "source": [
    "# convert to pb"
   ]
  },
  {
   "cell_type": "code",
   "execution_count": 7,
   "metadata": {
    "scrolled": true
   },
   "outputs": [
    {
     "name": "stderr",
     "output_type": "stream",
     "text": [
      "/Users/zihengchen/anaconda/lib/python3.6/site-packages/h5py/__init__.py:34: FutureWarning: Conversion of the second argument of issubdtype from `float` to `np.floating` is deprecated. In future, it will be treated as `np.float64 == np.dtype(float).type`.\n",
      "  from ._conv import register_converters as _register_converters\n",
      "/Users/zihengchen/Downloads/onnx-tensorflow/onnx_tf/common/__init__.py:87: UserWarning: onnx_tf.common.get_outputs_names is deprecated. It will be removed in future release. Use TensorflowGraph.get_outputs_names instead.\n",
      "  warnings.warn(message)\n"
     ]
    },
    {
     "name": "stdout",
     "output_type": "stream",
     "text": [
      "\n",
      "WARNING: The TensorFlow contrib module will not be included in TensorFlow 2.0.\n",
      "For more information, please see:\n",
      "  * https://github.com/tensorflow/community/blob/master/rfcs/20180907-contrib-sunset.md\n",
      "  * https://github.com/tensorflow/addons\n",
      "If you depend on functionality not listed there, please file an issue.\n",
      "\n",
      "graph(%0 : Float(10, 1, 52)\n",
      "      %1 : Float(4, 1, 5)\n",
      "      %2 : Float(4)\n",
      "      %3 : Float(4, 4, 4)\n",
      "      %4 : Float(4)\n",
      "      %5 : Float(4, 4, 4)\n",
      "      %6 : Float(4)\n",
      "      %7 : Float(16, 80)\n",
      "      %8 : Float(16)\n",
      "      %9 : Float(4, 16)\n",
      "      %10 : Float(4)) {\n",
      "  %11 : Tensor = onnx::Constant[value= -1   1  52 [ CPULongType{3} ]](), scope: TICLNet_layerPool\n",
      "  %12 : Float(10, 1, 52) = onnx::Reshape(%0, %11), scope: TICLNet_layerPool\n",
      "  %13 : Float(10, 4, 48) = onnx::Conv[dilations=[1], group=1, kernel_shape=[5], pads=[0, 0], strides=[1]](%12, %1, %2), scope: TICLNet_layerPool/Sequential[conv]/Conv1d[0]\n",
      "  %14 : Float(10, 4, 48) = onnx::Relu(%13), scope: TICLNet_layerPool/Sequential[conv]/ReLU[1]\n",
      "  %15 : Float(10, 4, 23) = onnx::Conv[dilations=[1], group=1, kernel_shape=[4], pads=[0, 0], strides=[2]](%14, %3, %4), scope: TICLNet_layerPool/Sequential[conv]/Conv1d[2]\n",
      "  %16 : Float(10, 4, 23) = onnx::Relu(%15), scope: TICLNet_layerPool/Sequential[conv]/ReLU[3]\n",
      "  %17 : Float(10, 4, 20) = onnx::Conv[dilations=[1], group=1, kernel_shape=[4], pads=[0, 0], strides=[1]](%16, %5, %6), scope: TICLNet_layerPool/Sequential[conv]/Conv1d[4]\n",
      "  %18 : Float(10, 4, 20) = onnx::Relu(%17), scope: TICLNet_layerPool/Sequential[conv]/ReLU[5]\n",
      "  %19 : Tensor = onnx::Constant[value= -1  80 [ CPULongType{2} ]](), scope: TICLNet_layerPool\n",
      "  %20 : Float(10, 80) = onnx::Reshape(%18, %19), scope: TICLNet_layerPool\n",
      "  %21 : Float(10, 16) = onnx::Gemm[alpha=1, beta=1, transB=1](%20, %7, %8), scope: TICLNet_layerPool/Sequential[fc]/Linear[0]\n",
      "  %22 : Float(10, 16) = onnx::Relu(%21), scope: TICLNet_layerPool/Sequential[fc]/ReLU[1]\n",
      "  %23 : Float(10, 4) = onnx::Gemm[alpha=1, beta=1, transB=1](%22, %9, %10), scope: TICLNet_layerPool/Sequential[fc]/ReLU[1]\n",
      "  return (%23);\n",
      "}\n",
      "\n"
     ]
    },
    {
     "name": "stderr",
     "output_type": "stream",
     "text": [
      "/Users/zihengchen/Downloads/onnx-tensorflow/onnx_tf/common/__init__.py:87: UserWarning: FrontendHandler.get_outputs_names is deprecated. It will be removed in future release. Use node.outputs instead.\n",
      "  warnings.warn(message)\n"
     ]
    }
   ],
   "source": [
    "import torch.onnx\n",
    "import onnx\n",
    "from onnx_tf.backend import prepare\n",
    "\n",
    "# ticlnet_rnn = model.rnn\n",
    "# rnn_input = torch.randn(1, 3)\n",
    "# torch.onnx.export(ticlnet_rnn, rnn_input, \"ticlnet_rnn.onnx\", verbose=True )\n",
    "\n",
    "ticlnet_cnn = model\n",
    "cnn_input = torch.randn(10, 1, 52)\n",
    "torch.onnx.export(ticlnet_cnn, cnn_input, \"../data/model/ticlnet_layerPool.onnx\", verbose=True )"
   ]
  },
  {
   "cell_type": "code",
   "execution_count": 8,
   "metadata": {},
   "outputs": [
    {
     "name": "stdout",
     "output_type": "stream",
     "text": [
      "WARNING:tensorflow:From /Users/zihengchen/Downloads/onnx-tensorflow/onnx_tf/handlers/backend/reshape.py:31: sparse_to_dense (from tensorflow.python.ops.sparse_ops) is deprecated and will be removed in a future version.\n",
      "Instructions for updating:\n",
      "Create a `tf.sparse.SparseTensor` and use `tf.sparse.to_dense` instead.\n",
      "WARNING:tensorflow:From /Users/zihengchen/Downloads/onnx-tensorflow/onnx_tf/handlers/backend/gemm.py:14: flatten (from tensorflow.python.layers.core) is deprecated and will be removed in a future version.\n",
      "Instructions for updating:\n",
      "Use keras.layers.flatten instead.\n"
     ]
    },
    {
     "name": "stderr",
     "output_type": "stream",
     "text": [
      "/Users/zihengchen/Downloads/onnx-tensorflow/onnx_tf/common/handler_helper.py:73: UserWarning: Unknown op ConstantFill in domain `ai.onnx`.\n",
      "  handler.ONNX_OP, handler.DOMAIN or \"ai.onnx\"))\n",
      "/Users/zihengchen/Downloads/onnx-tensorflow/onnx_tf/common/handler_helper.py:73: UserWarning: Unknown op MeanVarianceNormalization in domain `ai.onnx`.\n",
      "  handler.ONNX_OP, handler.DOMAIN or \"ai.onnx\"))\n"
     ]
    }
   ],
   "source": [
    "onnx_model = onnx.load(\"../data/model/ticlnet_layerPool.onnx\")  # load onnx model\n",
    "tf_rep = prepare(onnx_model)  # prepare tf representation\n",
    "tf_rep.export_graph(\"../data/model/ticlnet_layerPool.pd\")  # export the model"
   ]
  },
  {
   "cell_type": "code",
   "execution_count": null,
   "metadata": {
    "collapsed": true
   },
   "outputs": [],
   "source": []
  }
 ],
 "metadata": {
  "kernelspec": {
   "display_name": "Python 3",
   "language": "python",
   "name": "python3"
  },
  "language_info": {
   "codemirror_mode": {
    "name": "ipython",
    "version": 3
   },
   "file_extension": ".py",
   "mimetype": "text/x-python",
   "name": "python",
   "nbconvert_exporter": "python",
   "pygments_lexer": "ipython3",
   "version": "3.6.1"
  }
 },
 "nbformat": 4,
 "nbformat_minor": 2
}
