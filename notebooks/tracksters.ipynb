{
 "cells": [
  {
   "cell_type": "code",
   "execution_count": 1,
   "metadata": {},
   "outputs": [
    {
     "name": "stdout",
     "output_type": "stream",
     "text": [
      "Welcome to JupyROOT 6.16/00\n"
     ]
    }
   ],
   "source": [
    "import pandas as pd\n",
    "from pylab import *\n",
    "from TracksterReader import *\n",
    "%matplotlib inline"
   ]
  },
  {
   "cell_type": "code",
   "execution_count": 2,
   "metadata": {},
   "outputs": [],
   "source": [
    "%run ../python/TracksterReader.py"
   ]
  },
  {
   "cell_type": "code",
   "execution_count": 3,
   "metadata": {
    "collapsed": true
   },
   "outputs": [],
   "source": [
    "trainset = pd.read_pickle(\"../data/pickle/step4.pkl\")"
   ]
  },
  {
   "cell_type": "code",
   "execution_count": 4,
   "metadata": {},
   "outputs": [],
   "source": [
    "cmapdict = {0:\"Blues\",1:\"Reds\",2:\"Greens\",3:\"Purples\",4:\"Purples\",5:\"Greys\"}\n",
    "titledict = {0:\"Electron\",1:\"Photon\",2:\"Muon\",3:\"Pion+\",4:\"k0\",5:\"NAN\"}\n",
    "for i in range(len(trainset)):\n",
    "    label = trainset.loc[i].label    \n",
    "    im = np.array(trainset.loc[i].feature)\n",
    "    \n",
    "    plt.figure(figsize=(6,2),facecolor='w')\n",
    "    \n",
    "    plt.imshow(im[:,:,2].T,cmap=cmapdict[label],vmin=0)\n",
    "    plt.xticks([])\n",
    "    plt.yticks([])\n",
    "    plt.xlabel(\"layer\")\n",
    "    plt.ylabel(\"cluster\")\n",
    "    plt.title(titledict[label])\n",
    "    plt.axvspan(28,49, color='k',alpha=0.1,linewidth=0)\n",
    "    plt.axvspan(40,49, color='k',alpha=0.1,linewidth=0)\n",
    "    plt.xlim(0,49)\n",
    "    \n",
    "    plt.savefig(\"../plots/tracksters/{}.png\".format(i),dpi=200)\n",
    "    plt.close()"
   ]
  },
  {
   "cell_type": "code",
   "execution_count": null,
   "metadata": {
    "collapsed": true
   },
   "outputs": [],
   "source": []
  }
 ],
 "metadata": {
  "kernelspec": {
   "display_name": "Python 3",
   "language": "python",
   "name": "python3"
  },
  "language_info": {
   "codemirror_mode": {
    "name": "ipython",
    "version": 3
   },
   "file_extension": ".py",
   "mimetype": "text/x-python",
   "name": "python",
   "nbconvert_exporter": "python",
   "pygments_lexer": "ipython3",
   "version": "3.6.1"
  }
 },
 "nbformat": 4,
 "nbformat_minor": 2
}
