{
 "cells": [
  {
   "cell_type": "code",
   "execution_count": 1,
   "metadata": {},
   "outputs": [
    {
     "name": "stdout",
     "output_type": "stream",
     "text": [
      "Welcome to JupyROOT 6.16/00\n"
     ]
    }
   ],
   "source": [
    "from helper_NtupleReader import *\n",
    "from helper_Plotter import *\n",
    "from tqdm import trange\n",
    "%matplotlib inline"
   ]
  },
  {
   "cell_type": "markdown",
   "metadata": {},
   "source": [
    "# 1. read ntuple"
   ]
  },
  {
   "cell_type": "code",
   "execution_count": 2,
   "metadata": {},
   "outputs": [
    {
     "name": "stderr",
     "output_type": "stream",
     "text": [
      "Making Dataset PID=11 : 100%|███████████████████████████| 10000/10000 [00:33<00:00, 297.46 events/s]\n",
      "Making Dataset PID=13 : 100%|███████████████████████████| 10000/10000 [00:33<00:00, 300.67 events/s]\n",
      "Making Dataset PID=22 : 100%|███████████████████████████| 10000/10000 [00:33<00:00, 297.13 events/s]\n",
      "Making Dataset PID=211 : 100%|██████████████████████████| 10000/10000 [00:33<00:00, 296.41 events/s]\n"
     ]
    }
   ],
   "source": [
    "for pid in ['11','13','22','211']:\n",
    "    inputFileName = '../data/root/step4_NTUPLE_pid{}.root'.format(pid)\n",
    "    outputFileName = '../data/pickle/dataset_layerPool_pid{}.pkl'.format(pid)\n",
    "    rd = NtupleReader(inputFileName,n=-1, tqdmLabel='Making Dataset PID={} '.format(pid), layerPool=True )\n",
    "    rd.makeDataset(outputFileName)"
   ]
  },
  {
   "cell_type": "markdown",
   "metadata": {},
   "source": [
    "# 2. visualize training data"
   ]
  },
  {
   "cell_type": "code",
   "execution_count": 2,
   "metadata": {},
   "outputs": [
    {
     "data": {
      "image/png": "[encoded data removed]",
      "text/plain": [
       "<matplotlib.figure.Figure at 0x113d37e80>"
      ]
     },
     "metadata": {},
     "output_type": "display_data"
    }
   ],
   "source": [
    "events = pd.read_pickle('../data/pickle/dataset_pid11.pkl')\n",
    "plotEvent_EtaPhi(events,3)"
   ]
  },
  {
   "cell_type": "code",
   "execution_count": 3,
   "metadata": {
    "collapsed": true
   },
   "outputs": [],
   "source": [
    "for pid in ['11','13','22','211']:\n",
    "    events = pd.read_pickle('../data/pickle/dataset_pid{}.pkl'.format(pid))\n",
    "    for i in range(100):\n",
    "        plotEvent_EtaPhi(events,i)\n",
    "        plt.savefig('../plots/display/pid{}/event_{}.png'.format(pid,i),dpi=200)\n",
    "        plt.close()"
   ]
  },
  {
   "cell_type": "markdown",
   "metadata": {},
   "source": []
  },
  {
   "cell_type": "code",
   "execution_count": 2,
   "metadata": {
    "collapsed": true
   },
   "outputs": [],
   "source": [
    "import glob\n",
    "import os, sys\n",
    "pickles = glob.glob('../data/pickle/dataset_layerPool_pid*.pkl')\n",
    "dataFrame = pd.concat([ pd.read_pickle(pickle) for pickle in pickles],ignore_index=True)\n",
    "dataFrame = dataFrame.sample(frac=1).reset_index(drop=True)"
   ]
  },
  {
   "cell_type": "code",
   "execution_count": 3,
   "metadata": {
    "collapsed": true
   },
   "outputs": [],
   "source": [
    "train_layerPool = dataFrame[0:30000]\n",
    "test_layerPool = dataFrame[30000:]"
   ]
  },
  {
   "cell_type": "code",
   "execution_count": 4,
   "metadata": {
    "collapsed": true
   },
   "outputs": [],
   "source": [
    "train_layerPool.to_pickle(\"../data/pickle/train_layerPool.pkl\")\n",
    "test_layerPool.to_pickle(\"../data/pickle/test_layerPool.pkl\")"
   ]
  },
  {
   "cell_type": "code",
   "execution_count": null,
   "metadata": {
    "collapsed": true
   },
   "outputs": [],
   "source": []
  }
 ],
 "metadata": {
  "kernelspec": {
   "display_name": "Python 3",
   "language": "python",
   "name": "python3"
  },
  "language_info": {
   "codemirror_mode": {
    "name": "ipython",
    "version": 3
   },
   "file_extension": ".py",
   "mimetype": "text/x-python",
   "name": "python",
   "nbconvert_exporter": "python",
   "pygments_lexer": "ipython3",
   "version": "3.6.1"
  }
 },
 "nbformat": 4,
 "nbformat_minor": 2
}
