{
 "cells": [
  {
   "cell_type": "code",
   "execution_count": 3,
   "metadata": {
    "collapsed": true
   },
   "outputs": [],
   "source": [
    "from torch_TICLNet import *\n",
    "from torch_DatasetLoader import *\n",
    "from pylab import *\n",
    "from IPython.display import clear_output\n",
    "%matplotlib inline"
   ]
  },
  {
   "cell_type": "code",
   "execution_count": 4,
   "metadata": {},
   "outputs": [],
   "source": [
    "class TICLNet2(nn.Module):\n",
    "    def __init__(self):\n",
    "        super(TICLNet2, self).__init__()\n",
    "        self.rnn = EventSummarizeNet()\n",
    "        \n",
    "        self.fc = nn.Sequential(\n",
    "            nn.Linear(16,16),\n",
    "            nn.ReLU(True),\n",
    "            nn.Linear(16,4),\n",
    "        )\n",
    "        \n",
    "    def forward(self, batchEvents):\n",
    "        batchSummary = self.summarizeBatchEvents(batchEvents)\n",
    "        output = self.fc(batchSummary)\n",
    "        return output # (batch_size, nClasses=4)\n",
    "        \n",
    "    def summarizeBatchEvents(self, batchEvents):\n",
    "        batchSummary = []\n",
    "        for event in batchEvents:\n",
    "            event =  torch.tensor(event,dtype=torch.float32)\n",
    "            eventSummary = self.rnn(event)\n",
    "            batchSummary.append(eventSummary)\n",
    "        batchSummary = torch.cat(batchSummary)\n",
    "        return batchSummary # (batch_size , Length=16)\n",
    "\n",
    "\n",
    "class EventSummarizeNet(nn.Module):\n",
    "    \n",
    "    def __init__(self):\n",
    "        super(EventSummarizeNet, self).__init__()\n",
    "        self.input_size  = 4\n",
    "        self.hidden_size = 16\n",
    "        self.output_size = 16\n",
    "    \n",
    "        self.lstm1 = nn.LSTMCell(self.input_size, self.hidden_size)\n",
    "        self.linear = nn.Linear(self.hidden_size, self.output_size)\n",
    "\n",
    "    def forward(self, input):\n",
    "        batch_size = 1\n",
    "        h_t = torch.zeros(batch_size, self.hidden_size)\n",
    "        c_t = torch.zeros(batch_size, self.hidden_size) \n",
    "\n",
    "        for i, input_t in enumerate(input.chunk(input.size(0), dim=0)):\n",
    "            h_t, c_t = self.lstm1(input_t, (h_t, c_t))\n",
    "        \n",
    "        output = torch.sigmoid(self.linear(h_t))\n",
    "        return output\n",
    "    \n"
   ]
  },
  {
   "cell_type": "code",
   "execution_count": 5,
   "metadata": {
    "collapsed": true
   },
   "outputs": [],
   "source": [
    "# load training dataset\n",
    "trainset = DatasetLoader('../data/pickle/dataset_CLUSTERS_train.pkl')\n",
    "# initialize a model\n",
    "model = TICLNet2()"
   ]
  },
  {
   "cell_type": "code",
   "execution_count": 6,
   "metadata": {},
   "outputs": [
    {
     "name": "stdout",
     "output_type": "stream",
     "text": [
      "[ 2, 560] loss: 0.431\n"
     ]
    }
   ],
   "source": [
    "# initialize optimizer\n",
    "optimizer = torch.optim.Adam(model.parameters(), lr=1e-3)\n",
    "# begin Training\n",
    "for epoch in range(2):\n",
    "    running_loss = 0.0\n",
    "    for i, batch in enumerate(trainset.getBatches(batch_size=50)):\n",
    "        # 1.get the inputs\n",
    "        inputs = batch[\"feature\"]\n",
    "        labels = batch[\"label\"]\n",
    "        # 2.zero the parameter gradients\n",
    "        optimizer.zero_grad()\n",
    "        # 3.forward + backward + optimize\n",
    "        outputs = model(inputs)\n",
    "        loss    = F.cross_entropy( outputs, torch.tensor(labels) )\n",
    "        loss.backward()\n",
    "        optimizer.step()\n",
    "        \n",
    "        #### monitor running loss ####\n",
    "        running_loss += loss.data\n",
    "        if i % 10 == 9:\n",
    "            print('[{:2d}, {:3d}] loss: {:5.3f}'.format(epoch+1, i+1, running_loss/10))\n",
    "            clear_output(wait=True)\n",
    "            running_loss = 0.0"
   ]
  },
  {
   "cell_type": "code",
   "execution_count": 7,
   "metadata": {
    "collapsed": true
   },
   "outputs": [],
   "source": [
    "torch.save(model.state_dict(), '../models/RNN.dict')"
   ]
  },
  {
   "cell_type": "markdown",
   "metadata": {
    "collapsed": true
   },
   "source": [
    "# Test"
   ]
  },
  {
   "cell_type": "code",
   "execution_count": 8,
   "metadata": {},
   "outputs": [
    {
     "name": "stdout",
     "output_type": "stream",
     "text": [
      "model loaded for test dataset\n"
     ]
    }
   ],
   "source": [
    "whichset = \"test\"\n",
    "# load training dataset\n",
    "testset = DatasetLoader('../data/pickle/dataset_CLUSTERS_{}.pkl'.format(whichset))\n",
    "# initialize a model\n",
    "model = TICLNet2()\n",
    "model.load_state_dict(torch.load('../models/RNN.dict'))\n",
    "model.eval()\n",
    "print('model loaded for {} dataset'.format(whichset))"
   ]
  },
  {
   "cell_type": "code",
   "execution_count": 11,
   "metadata": {
    "collapsed": true
   },
   "outputs": [],
   "source": [
    "# calculate softmax for testing events\n",
    "softmax = []\n",
    "for i in range(len(testset)):\n",
    "    event = testset[i]\n",
    "    X = event[\"feature\"]\n",
    "    y = F.softmax(model(X),dim=1)\n",
    "    softmax.append(y.data.numpy())\n",
    "softmax = np.array(softmax)  \n",
    "softmax = softmax.reshape(-1,4)\n",
    "predicts = np.argmax(softmax,axis=1)\n",
    "labels = np.array(testset.label)"
   ]
  },
  {
   "cell_type": "code",
   "execution_count": 14,
   "metadata": {},
   "outputs": [
    {
     "data": {
      "image/png": "[encoded data removed]",
      "text/plain": [
       "<matplotlib.figure.Figure at 0x19e472208>"
      ]
     },
     "metadata": {},
     "output_type": "display_data"
    }
   ],
   "source": [
    "# a) plot confusion matrix\n",
    "%matplotlib inline\n",
    "h = np.histogram2d(labels,predicts,bins=np.arange(5))[0]\n",
    "hnorm = h.copy()\n",
    "for i in range(h.shape[0]):\n",
    "    hnorm[i] /= h[i].sum()\n",
    "plt.figure(facecolor='w')\n",
    "plt.imshow(hnorm,origin='lower',cmap=\"Blues\")\n",
    "plt.ylabel('Gen-level Truth',fontsize=12)\n",
    "plt.xlabel('Network Prediction',fontsize=12)\n",
    "plt.yticks(np.arange(4),[r'$e$',r'$\\gamma$',r'$\\mu$',r'$\\pi\\pm$'],fontsize=12)\n",
    "plt.xticks(np.arange(4),[r'$e$',r'$\\gamma$',r'$\\mu$',r'$\\pi\\pm$'],fontsize=12)\n",
    "\n",
    "\n",
    "for i in range(4):\n",
    "    for j in range(4):\n",
    "        clr = 'k'\n",
    "        val = hnorm[j,i]\n",
    "        if val >0.5:\n",
    "            clr = 'w'\n",
    "        plt.text(i-0.2,j-0.1,'{:4.2f}'.format(val), color=clr,fontsize=12)\n",
    "plt.title('RNN -- {} dataset'.format(whichset))\n",
    "plt.savefig('../plots/TICLNet/{}_confusion_RNN.png'.format(whichset),dpi=200)"
   ]
  },
  {
   "cell_type": "code",
   "execution_count": null,
   "metadata": {
    "collapsed": true
   },
   "outputs": [],
   "source": []
  }
 ],
 "metadata": {
  "kernelspec": {
   "display_name": "Python 3",
   "language": "python",
   "name": "python3"
  },
  "language_info": {
   "codemirror_mode": {
    "name": "ipython",
    "version": 3
   },
   "file_extension": ".py",
   "mimetype": "text/x-python",
   "name": "python",
   "nbconvert_exporter": "python",
   "pygments_lexer": "ipython3",
   "version": "3.6.1"
  }
 },
 "nbformat": 4,
 "nbformat_minor": 2
}
