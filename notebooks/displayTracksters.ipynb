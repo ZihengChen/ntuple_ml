{
 "cells": [
  {
   "cell_type": "code",
   "execution_count": 1,
   "metadata": {},
   "outputs": [
    {
     "name": "stdout",
     "output_type": "stream",
     "text": [
      "Welcome to JupyROOT 6.16/00\n"
     ]
    }
   ],
   "source": [
    "from TracksterDisplay import *"
   ]
  },
  {
   "cell_type": "code",
   "execution_count": 2,
   "metadata": {},
   "outputs": [],
   "source": [
    "dis = TracksterDisplay(\"../data/root/step4.root\")"
   ]
  },
  {
   "cell_type": "code",
   "execution_count": 5,
   "metadata": {},
   "outputs": [],
   "source": [
    "dis.plot([1,2])"
   ]
  },
  {
   "cell_type": "code",
   "execution_count": null,
   "metadata": {
    "collapsed": true
   },
   "outputs": [],
   "source": []
  },
  {
   "cell_type": "code",
   "execution_count": null,
   "metadata": {
    "collapsed": true
   },
   "outputs": [],
   "source": []
  },
  {
   "cell_type": "code",
   "execution_count": null,
   "metadata": {
    "collapsed": true
   },
   "outputs": [],
   "source": []
  },
  {
   "cell_type": "code",
   "execution_count": 43,
   "metadata": {},
   "outputs": [
    {
     "data": {
      "text/html": [
       "<script type=\"text/javascript\">window.PlotlyConfig = {MathJaxConfig: 'local'};</script><script type=\"text/javascript\">if (window.MathJax) {MathJax.Hub.Config({SVG: {font: \"STIX-Web\"}});}</script><script>requirejs.config({paths: { 'plotly': ['https://cdn.plot.ly/plotly-latest.min']},});if(!window._Plotly) {require(['plotly'],function(plotly) {window._Plotly=plotly;});}</script>"
      ],
      "text/vnd.plotly.v1+html": [
       "<script type=\"text/javascript\">window.PlotlyConfig = {MathJaxConfig: 'local'};</script><script type=\"text/javascript\">if (window.MathJax) {MathJax.Hub.Config({SVG: {font: \"STIX-Web\"}});}</script><script>requirejs.config({paths: { 'plotly': ['https://cdn.plot.ly/plotly-latest.min']},});if(!window._Plotly) {require(['plotly'],function(plotly) {window._Plotly=plotly;});}</script>"
      ]
     },
     "metadata": {},
     "output_type": "display_data"
    }
   ],
   "source": [
    "import plotly.plotly as py\n",
    "import plotly.graph_objs as go\n",
    "from plotly.offline import init_notebook_mode, plot, iplot\n",
    "init_notebook_mode(connected=True)\n",
    "\n",
    "pidToLabelMap = {11:0, -11:0, 22:1, 13:2, -13:2, 211:3, 311:4, -311:4, -1:-1}\n",
    "cmapdict = {-1:\"black\", 0:\"blue\",1:\"red\",2:\"green\",3:\"purple\",4:\"orange\"}\n",
    "\n",
    "def truncatedCone(eta0,eta1,z0,z1):\n",
    "    R,r = 200,400\n",
    "    theta0 = 2*np.arctan(np.exp(-eta0))\n",
    "    theta1 = 2*np.arctan(np.exp(-eta1))\n",
    "        \n",
    "    phi = np.linspace(0, 2 * np.pi, 120)\n",
    "    rad = np.linspace(0, 2 * np.pi, 120)\n",
    "    phi, rad = np.meshgrid(phi,rad)\n",
    "    \n",
    "    z   = ((z0+z1)/2 + r*np.sin(rad)).clip(z0,z1)\n",
    "    rho = (R+r*np.cos(rad))\n",
    "    \n",
    "    for i in range(120):\n",
    "        for j in range(120):\n",
    "            rhomax = z[i,j]*np.tan(theta0)\n",
    "            rhomin = z[i,j]*np.tan(theta1)\n",
    "            if rho[i,j] > rhomax:\n",
    "                rho[i,j] = rhomax\n",
    "            if rho[i,j] < rhomin:\n",
    "                rho[i,j] = rhomin\n",
    "    rho = rho.clip(0,250)\n",
    "                \n",
    "    x = rho*np.cos(phi) \n",
    "    y = rho*np.sin(phi) \n",
    "    \n",
    "    return x,y,z\n",
    "\n",
    "def figureHGCalGeometry():\n",
    "    x,y,z = truncatedCone(1.48,3.0,320,352)\n",
    "    geomEE = go.Surface(x=x, y=z, z=y, surfacecolor=0.5*np.ones_like(y),cmin=0,cmax=1,opacity=0.3,showscale=False)\n",
    "    x,y,z = truncatedCone(1.48,3.0,357,410)\n",
    "    geomFH = go.Surface(x=x, y=z, z=y, surfacecolor=0.5*np.ones_like(y),cmin=0,cmax=1,opacity=0.3,showscale=False)\n",
    "    x,y,z = truncatedCone(1.4,3.0,415,500)\n",
    "    geomBH = go.Surface(x=x, y=z, z=y, surfacecolor=0.5*np.ones_like(y),cmin=0,cmax=1,opacity=0.3,showscale=False)\n",
    "    return [geomEE,geomFH,geomBH]\n",
    "\n",
    "def figureGentLines(df,eventIds):\n",
    "    genLinesList = []\n",
    "\n",
    "    for idx in eventIds:\n",
    "        event = df.loc[idx]\n",
    "        n = len(event.gunparticle_id)\n",
    "        \n",
    "        x = np.zeros(n*2)\n",
    "        y = np.zeros(n*2)\n",
    "        z = np.zeros(n*2)\n",
    "        \n",
    "#         labels = pidToLabelMap[event.gunparticle_id]\n",
    "#         genLinesColor = cmapdict[labels]\n",
    "        \n",
    "#         label = pidToLabelMap[event.gunparticle_id]\n",
    "#         genLinesColor = cmapdict = {0:\"Blues\",1:\"Reds\",2:\"Greens\",3:\"Purples\",4:\"Purples\",5:\"Greys\"}\n",
    "\n",
    "        for i in range(n):\n",
    "            eta, phi = event.gunparticle_eta[i],event.gunparticle_phi[i]\n",
    "            theta = 2*np.arctan(np.exp(-eta))\n",
    "            x[2*i]= 320*np.tan(theta)*np.cos(phi)\n",
    "            y[2*i]= 320*np.tan(theta)*np.sin(phi)\n",
    "            z[2*i]= 320\n",
    "\n",
    "\n",
    "        genLines = go.Scatter3d(x=x, y=z, z=y, mode='lines',marker=dict(size=0,opacity=1,line = dict(width =0,color='red'))) \n",
    "        genLinesList.append(genLines)\n",
    "\n",
    "    return genLinesList\n",
    "    \n",
    "def figureClusters(df,eventIds):\n",
    "    \n",
    "    clustersList = []\n",
    "    for idx in eventIds:\n",
    "        event = df.loc[idx]\n",
    "        \n",
    "        e = event.cluster2d_energy\n",
    "        x = event.cluster2d_x\n",
    "        y = event.cluster2d_y\n",
    "        z = event.cluster2d_z\n",
    "        \n",
    "        for tr in event.trackster_clusters:\n",
    "            np.delete(e,tr)\n",
    "            np.delete(x,tr)\n",
    "            np.delete(y,tr)\n",
    "            np.delete(z,tr)\n",
    "        \n",
    "        clusters = go.Scatter3d(x=x,y=z,z=y,mode='markers',\n",
    "                            marker=dict(size = 5*e**0.5,color='black',\n",
    "                                        line = dict(width = 0))) \n",
    "        clustersList.append(clusters)\n",
    "    return clustersList\n",
    "\n",
    "\n",
    "def figureTrackster(df,eventIds):\n",
    "    \n",
    "    trackstersList = []\n",
    "    for idx in eventIds:\n",
    "        event = df.loc[idx]\n",
    "        for tr in event.trackster_clusters:\n",
    "            # make trackster\n",
    "            e = event.cluster2d_energy[tr]\n",
    "            x = event.cluster2d_x[tr]\n",
    "            y = event.cluster2d_y[tr]\n",
    "            z = event.cluster2d_z[tr]\n",
    "        \n",
    "            trackster = go.Scatter3d(x=x,y=z,z=y,mode='markers',\n",
    "                                        marker=dict(size = 5*e**0.5,color='red',\n",
    "                                        line = dict(width = 0))) \n",
    "            trackstersList.append(trackster)\n",
    "    return trackstersList\n"
   ]
  },
  {
   "cell_type": "code",
   "execution_count": 44,
   "metadata": {},
   "outputs": [
    {
     "data": {
      "text/plain": [
       "'file:///Users/zihengchen/Documents/HGCal/TICL/notebooks/test.html'"
      ]
     },
     "execution_count": 44,
     "metadata": {},
     "output_type": "execute_result"
    }
   ],
   "source": [
    "events = [1]\n",
    "geom     = figureHGCalGeometry()\n",
    "genparts = figureGentLines(df,events)\n",
    "clusters  = figureClusters(df,events)\n",
    "tracksters  = figureTrackster(df,events)\n",
    "\n",
    "fig = go.Figure(data   = geom+genparts+clusters+tracksters,\n",
    "                layout = go.Layout(scene = dict(xaxis=dict(title='x (cm)'),\n",
    "                                                yaxis=dict(title='z (cm)'),\n",
    "                                                zaxis=dict(title='y (cm)')),\n",
    "                                    margin = dict(l=0,r=0,b=0,t=0)\n",
    "                                    ))\n",
    "\n",
    "plot(fig, filename='test')"
   ]
  },
  {
   "cell_type": "code",
   "execution_count": 36,
   "metadata": {},
   "outputs": [
    {
     "data": {
      "text/plain": [
       "array([array([108.410904], dtype=float32),\n",
       "       array([92.00145], dtype=float32), array([70.67092], dtype=float32),\n",
       "       array([75.977394], dtype=float32),\n",
       "       array([430.63104], dtype=float32)], dtype=object)"
      ]
     },
     "execution_count": 36,
     "metadata": {},
     "output_type": "execute_result"
    }
   ],
   "source": [
    "event.gunparticle_energy"
   ]
  },
  {
   "cell_type": "code",
   "execution_count": null,
   "metadata": {
    "collapsed": true
   },
   "outputs": [],
   "source": []
  }
 ],
 "metadata": {
  "kernelspec": {
   "display_name": "Python 3",
   "language": "python",
   "name": "python3"
  },
  "language_info": {
   "codemirror_mode": {
    "name": "ipython",
    "version": 3
   },
   "file_extension": ".py",
   "mimetype": "text/x-python",
   "name": "python",
   "nbconvert_exporter": "python",
   "pygments_lexer": "ipython3",
   "version": "3.6.1"
  }
 },
 "nbformat": 4,
 "nbformat_minor": 2
}
