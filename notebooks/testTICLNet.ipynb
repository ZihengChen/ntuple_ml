{
 "cells": [
  {
   "cell_type": "code",
   "execution_count": 1,
   "metadata": {
    "collapsed": true
   },
   "outputs": [],
   "source": [
    "from torch_TICLNet import *\n",
    "from helper_DataLoader import *\n",
    "\n",
    "from IPython.display import clear_output\n",
    "%matplotlib inline"
   ]
  },
  {
   "cell_type": "markdown",
   "metadata": {},
   "source": [
    "# 1. Initialization"
   ]
  },
  {
   "cell_type": "code",
   "execution_count": 2,
   "metadata": {
    "collapsed": true
   },
   "outputs": [
    {
     "data": {
      "text/plain": [
       "TICLNet(\n",
       "  (rnn): LayerSummarizeNet(\n",
       "    (lstm1): LSTMCell(3, 20)\n",
       "    (linear): Linear(in_features=20, out_features=16, bias=True)\n",
       "  )\n",
       "  (cnn): ClassifyNet(\n",
       "    (conv): Sequential(\n",
       "      (0): Conv1d(16, 32, kernel_size=(5,), stride=(1,))\n",
       "      (1): ReLU(inplace)\n",
       "      (2): Conv1d(32, 32, kernel_size=(4,), stride=(2,))\n",
       "      (3): ReLU(inplace)\n",
       "      (4): Conv1d(32, 32, kernel_size=(4,), stride=(1,))\n",
       "      (5): ReLU(inplace)\n",
       "    )\n",
       "    (fc): Sequential(\n",
       "      (0): Linear(in_features=640, out_features=16, bias=True)\n",
       "      (1): ReLU(inplace)\n",
       "      (2): Linear(in_features=16, out_features=4, bias=True)\n",
       "    )\n",
       "  )\n",
       ")"
      ]
     },
     "execution_count": 2,
     "metadata": {},
     "output_type": "execute_result"
    }
   ],
   "source": [
    "# load training dataset\n",
    "testset = TICLNetDataset('../data/pickle/test.pkl')\n",
    "# initialize a model\n",
    "model = TICLNet()\n",
    "model.load_state_dict(torch.load('../data/model/TICLNet.dict'))\n",
    "model.eval()"
   ]
  },
  {
   "cell_type": "markdown",
   "metadata": {},
   "source": [
    "# 2. Testing"
   ]
  },
  {
   "cell_type": "code",
   "execution_count": 3,
   "metadata": {
    "collapsed": true
   },
   "outputs": [],
   "source": [
    "softmax = []\n",
    "for i in range(len(testset)):\n",
    "    event = testset[i]\n",
    "    X = event[\"feature\"]\n",
    "    Y = event[\"label\"]\n",
    "    y = F.softmax(model(X),dim=1)\n",
    "    softmax.append(y.data.numpy())\n",
    "softmax = np.array(softmax)  \n",
    "softmax = softmax.reshape(-1,4)"
   ]
  },
  {
   "cell_type": "code",
   "execution_count": 4,
   "metadata": {
    "collapsed": true
   },
   "outputs": [],
   "source": [
    "labels = np.array(testset.label)"
   ]
  },
  {
   "cell_type": "markdown",
   "metadata": {},
   "source": [
    "# 3. Plot Result"
   ]
  },
  {
   "cell_type": "code",
   "execution_count": 5,
   "metadata": {
    "collapsed": true
   },
   "outputs": [],
   "source": [
    "predMatrix = np.zeros([4,4])"
   ]
  },
  {
   "cell_type": "code",
   "execution_count": 22,
   "metadata": {},
   "outputs": [
    {
     "data": {
      "image/png": "[encoded data removed]",
      "text/plain": [
       "<matplotlib.figure.Figure at 0x11cbdc0b8>"
      ]
     },
     "metadata": {},
     "output_type": "display_data"
    }
   ],
   "source": [
    "particle = 2\n",
    "temp_softmax = softmax[labels==particle]\n",
    "\n",
    "# prepare making plot\n",
    "mvaBins = np.linspace(0,1,20)\n",
    "mvaLabels = [r'$e$-MVA',r'$\\gamma$-MVA',r'$\\pi$-MVA',r'$\\mu$-MVA']\n",
    "particleName = ['electron','photon','pion','muon']\n",
    "\n",
    "# make plot\n",
    "plt.figure(facecolor='w')\n",
    "for i in range(4):\n",
    "    if i == particle:\n",
    "        htype = 'stepfilled'\n",
    "        halpha = 0.8\n",
    "    else:\n",
    "        htype = 'step'\n",
    "        halpha = 0.8\n",
    "    plt.hist(temp_softmax[:,i], mvaBins,\n",
    "             normed=True,alpha = halpha,\n",
    "             lw=2, histtype=htype,label=mvaLabels[i])\n",
    "    \n",
    "plt.legend(loc='upper center',fontsize=12)\n",
    "plt.grid(linestyle='--',alpha=0.5)\n",
    "plt.xlim(-0.1,1.1)\n",
    "plt.xlabel('TICL-Net Score',fontsize=14)\n",
    "plt.title('{} events'.format(particleName[particle]),fontsize=16)\n",
    "plt.savefig('../plots/score/mva_{}.png'.format(particleName[particle]),dpi=200)"
   ]
  },
  {
   "cell_type": "code",
   "execution_count": 23,
   "metadata": {
    "collapsed": true
   },
   "outputs": [],
   "source": [
    "predicts = np.argmax(temp_softmax,axis=1)\n",
    "h,b= np.histogram(predicts, bins=np.arange(5))\n",
    "predMatrix[particle,:]=h/len(predicts)"
   ]
  },
  {
   "cell_type": "code",
   "execution_count": 56,
   "metadata": {},
   "outputs": [
    {
     "data": {
      "image/png": "[encoded data removed]",
      "text/plain": [
       "<matplotlib.figure.Figure at 0x11db80b38>"
      ]
     },
     "metadata": {},
     "output_type": "display_data"
    }
   ],
   "source": [
    "# show predicts\n",
    "plt.figure(facecolor='w')\n",
    "plt.imshow(predMatrix.T,origin='lower')\n",
    "plt.xlabel('Gen-level Truth',fontsize=12)\n",
    "plt.ylabel('Network Prediction',fontsize=12)\n",
    "plt.xticks(np.arange(4),[r'$e$',r'$\\gamma$',r'$\\pi$',r'$\\mu$'],fontsize=12)\n",
    "plt.yticks(np.arange(4),[r'$\\hat{e}$',r'$\\hat{\\gamma}$',r'$\\hat{\\pi}$',r'$\\hat{\\mu}$'],fontsize=12)\n",
    "\n",
    "for i in range(4):\n",
    "    for j in range(4):\n",
    "        clr = 'w'\n",
    "        val = predMatrix[i,j]\n",
    "        if val >0.5:\n",
    "            clr = 'k'\n",
    "        plt.text(i-0.2,j-0.1,'{:4.2f}'.format(val), color=clr,fontsize=12)\n",
    "\n",
    "plt.savefig('../plots/score/accuracy.png',dpi=200)"
   ]
  },
  {
   "cell_type": "code",
   "execution_count": null,
   "metadata": {
    "collapsed": true
   },
   "outputs": [],
   "source": []
  }
 ],
 "metadata": {
  "kernelspec": {
   "display_name": "Python 3",
   "language": "python",
   "name": "python3"
  },
  "language_info": {
   "codemirror_mode": {
    "name": "ipython",
    "version": 3
   },
   "file_extension": ".py",
   "mimetype": "text/x-python",
   "name": "python",
   "nbconvert_exporter": "python",
   "pygments_lexer": "ipython3",
   "version": "3.6.1"
  }
 },
 "nbformat": 4,
 "nbformat_minor": 2
}
