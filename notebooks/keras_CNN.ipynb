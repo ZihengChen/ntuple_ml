{
 "cells": [
  {
   "cell_type": "code",
   "execution_count": 13,
   "metadata": {},
   "outputs": [],
   "source": [
    "import warnings\n",
    "warnings.filterwarnings('ignore')\n",
    "from keras.models import Sequential\n",
    "import keras\n",
    "import tensorflow as tf\n",
    "from keras import backend as K\n",
    "warnings.filterwarnings('ignore')\n",
    "import pandas as pd\n",
    "from pylab import *"
   ]
  },
  {
   "cell_type": "markdown",
   "metadata": {},
   "source": [
    "# 1. Training"
   ]
  },
  {
   "cell_type": "code",
   "execution_count": 7,
   "metadata": {},
   "outputs": [],
   "source": [
    "# load data\n",
    "trainset = pd.read_pickle('../data/pickle/dataset_LAYERS_SUMCLUSTERS_train.pkl')\n",
    "x_train,y_train = [],[]\n",
    "for i in range(len(trainset)):\n",
    "    temp = trainset.loc[i].feature\n",
    "    temp = np.array(temp).reshape(-1)\n",
    "    x_train.append(temp)\n",
    "    \n",
    "    l = trainset.loc[i].label\n",
    "    temp = np.zeros(4)\n",
    "    temp[l] = 1\n",
    "    y_train.append(temp)\n",
    "    \n",
    "x_train = np.array(x_train)[:,None,:]\n",
    "y_train = np.array(y_train)\n",
    "\n",
    "# load model\n",
    "from keras.layers import Dense,Conv1D,Flatten,Input\n",
    "from keras import Model\n",
    "def shower_classification_model():\n",
    "    input_img = Input(shape=(1, 52), name='input')\n",
    "    conv = Conv1D(4, 5, activation='relu', padding='same', data_format='channels_first', name='conv1')(input_img)\n",
    "    conv = Conv1D(4, 4, activation='relu', padding='same', data_format='channels_first', name='conv2')(conv)\n",
    "    conv = Conv1D(4, 4, activation='relu', padding='same', data_format='channels_first', name='conv3')(conv)\n",
    "    flat = Flatten()(conv)\n",
    "    dense = Dense(16, activation='relu', input_dim=80, name='dense1')(flat)\n",
    "    pred = Dense(4, activation='softmax', name='output')(dense)\n",
    "    model = Model(inputs=input_img, outputs=pred)\n",
    "    model.compile(loss='categorical_crossentropy', optimizer='adam', metrics=['accuracy'])\n",
    "    return model\n",
    "\n",
    "model = shower_classification_model()"
   ]
  },
  {
   "cell_type": "code",
   "execution_count": 8,
   "metadata": {},
   "outputs": [
    {
     "name": "stdout",
     "output_type": "stream",
     "text": [
      "WARNING:tensorflow:From /Users/zihengchen/anaconda/lib/python3.6/site-packages/tensorflow/python/ops/math_ops.py:3066: to_int32 (from tensorflow.python.ops.math_ops) is deprecated and will be removed in a future version.\n",
      "Instructions for updating:\n",
      "Use tf.cast instead.\n",
      "Train on 27000 samples, validate on 3000 samples\n",
      "Epoch 1/10\n",
      "27000/27000 [==============================] - 2s 68us/step - loss: 0.5836 - acc: 0.7244 - val_loss: 0.4365 - val_acc: 0.7493\n",
      "Epoch 2/10\n",
      "27000/27000 [==============================] - 1s 47us/step - loss: 0.4172 - acc: 0.7648 - val_loss: 0.4215 - val_acc: 0.7767\n",
      "Epoch 3/10\n",
      "27000/27000 [==============================] - 1s 49us/step - loss: 0.4076 - acc: 0.7711 - val_loss: 0.4110 - val_acc: 0.7820\n",
      "Epoch 4/10\n",
      "27000/27000 [==============================] - 1s 45us/step - loss: 0.3998 - acc: 0.7750 - val_loss: 0.4068 - val_acc: 0.7813\n",
      "Epoch 5/10\n",
      "27000/27000 [==============================] - 1s 44us/step - loss: 0.3961 - acc: 0.7760 - val_loss: 0.4057 - val_acc: 0.7830\n",
      "Epoch 6/10\n",
      "27000/27000 [==============================] - 1s 46us/step - loss: 0.3936 - acc: 0.7771 - val_loss: 0.4050 - val_acc: 0.7780\n",
      "Epoch 7/10\n",
      "27000/27000 [==============================] - 1s 48us/step - loss: 0.3912 - acc: 0.7799 - val_loss: 0.3973 - val_acc: 0.7807\n",
      "Epoch 8/10\n",
      "27000/27000 [==============================] - 1s 48us/step - loss: 0.3900 - acc: 0.7815 - val_loss: 0.3998 - val_acc: 0.7797\n",
      "Epoch 9/10\n",
      "27000/27000 [==============================] - 1s 49us/step - loss: 0.3888 - acc: 0.7796 - val_loss: 0.4045 - val_acc: 0.7787\n",
      "Epoch 10/10\n",
      "27000/27000 [==============================] - 1s 47us/step - loss: 0.3870 - acc: 0.7825 - val_loss: 0.3969 - val_acc: 0.7850\n"
     ]
    },
    {
     "data": {
      "text/plain": [
       "<keras.callbacks.History at 0x12fd318d0>"
      ]
     },
     "execution_count": 8,
     "metadata": {},
     "output_type": "execute_result"
    }
   ],
   "source": [
    "# train\n",
    "model.fit(x_train, y_train, epochs=10, batch_size=100,validation_split=0.1)"
   ]
  },
  {
   "cell_type": "code",
   "execution_count": 14,
   "metadata": {},
   "outputs": [
    {
     "name": "stdout",
     "output_type": "stream",
     "text": [
      "INFO:tensorflow:Froze 60 variables.\n",
      "INFO:tensorflow:Converted 60 variables to const ops.\n"
     ]
    },
    {
     "data": {
      "text/plain": [
       "'../models/CNN.pbtxt'"
      ]
     },
     "execution_count": 14,
     "metadata": {},
     "output_type": "execute_result"
    }
   ],
   "source": [
    "# save model\n",
    "def freeze_session(session, keep_var_names=None, output_names=None, clear_devices=True):\n",
    "    from tensorflow.python.framework.graph_util import convert_variables_to_constants\n",
    "    graph = session.graph\n",
    "    with graph.as_default():\n",
    "        freeze_var_names = list(set(v.op.name for v in tf.global_variables()).difference(keep_var_names or []))\n",
    "        output_names = output_names or []\n",
    "        output_names += [v.op.name for v in tf.global_variables()]\n",
    "        input_graph_def = graph.as_graph_def()\n",
    "        if clear_devices:\n",
    "            for node in input_graph_def.node:\n",
    "                node.device = \"\"\n",
    "        frozen_graph = convert_variables_to_constants(session, input_graph_def,\n",
    "                                                      output_names, freeze_var_names)\n",
    "        return frozen_graph\n",
    "    \n",
    "frozen_graph = freeze_session(K.get_session(),\n",
    "                              output_names=[out.op.name for out in model.outputs])\n",
    "\n",
    "tf.train.write_graph(frozen_graph, \"../models/\", \"CNN.pb\", as_text=False)\n",
    "tf.train.write_graph(frozen_graph, \"../models/\", \"CNN.pbtxt\", as_text=True)"
   ]
  },
  {
   "cell_type": "code",
   "execution_count": null,
   "metadata": {
    "collapsed": true
   },
   "outputs": [],
   "source": []
  }
 ],
 "metadata": {
  "kernelspec": {
   "display_name": "Python 3",
   "language": "python",
   "name": "python3"
  },
  "language_info": {
   "codemirror_mode": {
    "name": "ipython",
    "version": 3
   },
   "file_extension": ".py",
   "mimetype": "text/x-python",
   "name": "python",
   "nbconvert_exporter": "python",
   "pygments_lexer": "ipython3",
   "version": "3.6.1"
  }
 },
 "nbformat": 4,
 "nbformat_minor": 2
}
